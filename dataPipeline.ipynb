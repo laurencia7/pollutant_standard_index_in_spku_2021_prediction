{
 "cells": [
  {
   "cell_type": "markdown",
   "id": "4405b867",
   "metadata": {},
   "source": [
    "# Data Pipeline"
   ]
  },
  {
   "cell_type": "code",
   "execution_count": 1,
   "id": "45b366fe",
   "metadata": {},
   "outputs": [],
   "source": [
    "from tqdm import tqdm\n",
    "from sklearn.model_selection import train_test_split\n",
    "import pandas as pd\n",
    "import numpy as np \n",
    "import joblib\n",
    "import os\n",
    "import yaml"
   ]
  },
  {
   "cell_type": "code",
   "execution_count": 2,
   "id": "9705be43",
   "metadata": {},
   "outputs": [],
   "source": [
    "params_dir = \"config/params.yaml\""
   ]
  },
  {
   "cell_type": "code",
   "execution_count": 3,
   "id": "517ae98b",
   "metadata": {},
   "outputs": [],
   "source": [
    "def load_params(param_dir):\n",
    "    with open(param_dir, 'r') as file:\n",
    "        params = yaml.safe_load(file)\n",
    "        \n",
    "    return params"
   ]
  },
  {
   "cell_type": "code",
   "execution_count": 4,
   "id": "5dd6918b",
   "metadata": {},
   "outputs": [],
   "source": [
    "params = load_params(params_dir)"
   ]
  },
  {
   "cell_type": "code",
   "execution_count": 5,
   "id": "2a96989b",
   "metadata": {},
   "outputs": [
    {
     "data": {
      "text/plain": [
       "{'dataset_dir': 'data/raw/',\n",
       " 'datetime_columns': ['tanggal'],\n",
       " 'int32_columns': ['pm10', 'pm25', 'so2', 'co', 'o3', 'no2', 'max'],\n",
       " 'label': 'categori',\n",
       " 'label_categories': ['BAIK', 'SEDANG', 'TIDAK SEHAT'],\n",
       " 'label_categories_new': ['BAIK', 'TIDAK BAIK'],\n",
       " 'missing_value_co': 11,\n",
       " 'missing_value_no2': 18,\n",
       " 'missing_value_o3': 29,\n",
       " 'missing_value_pm10': {'BAIK': 28, 'TIDAK BAIK': 55},\n",
       " 'missing_value_pm25': {'BAIK': 38, 'TIDAK BAIK': 82},\n",
       " 'missing_value_so2': 35,\n",
       " 'object_columns': ['stasiun', 'critical', 'categori'],\n",
       " 'predictors': ['stasiun', 'pm10', 'pm25', 'so2', 'co', 'o3', 'no2'],\n",
       " 'range_co': [-1, 100],\n",
       " 'range_no2': [-1, 100],\n",
       " 'range_o3': [-1, 160],\n",
       " 'range_pm10': [-1, 800],\n",
       " 'range_pm25': [-1, 400],\n",
       " 'range_so2': [-1, 500],\n",
       " 'range_stasiun': ['DKI1 (Bunderan HI)',\n",
       "  'DKI2 (Kelapa Gading)',\n",
       "  'DKI3 (Jagakarsa)',\n",
       "  'DKI4 (Lubang Buaya)',\n",
       "  'DKI5 (Kebon Jeruk) Jakarta Barat']}"
      ]
     },
     "execution_count": 5,
     "metadata": {},
     "output_type": "execute_result"
    }
   ],
   "source": [
    "params"
   ]
  },
  {
   "cell_type": "markdown",
   "id": "af93b827",
   "metadata": {},
   "source": [
    "## 1. Data Collection"
   ]
  },
  {
   "cell_type": "code",
   "execution_count": 6,
   "id": "1ac2d8bc",
   "metadata": {},
   "outputs": [],
   "source": [
    "# function memuat file dan menggabungkan dataset\n",
    "def read_dataset(dataset_dir):\n",
    "    dataset = pd.DataFrame()\n",
    "\n",
    "    for i in tqdm(os.listdir(dataset_dir)):\n",
    "        dataset = pd.concat([pd.read_csv(dataset_dir + i), dataset])\n",
    "    \n",
    "    return dataset"
   ]
  },
  {
   "cell_type": "code",
   "execution_count": 7,
   "id": "b43f1f8e",
   "metadata": {},
   "outputs": [
    {
     "name": "stderr",
     "output_type": "stream",
     "text": [
      "100%|█████████████████████████████████████████████████████████████████████████████████| 12/12 [00:00<00:00, 223.45it/s]\n"
     ]
    }
   ],
   "source": [
    "# read path dataset yg ada di file config\n",
    "dataset = read_dataset(params[\"dataset_dir\"])"
   ]
  },
  {
   "cell_type": "code",
   "execution_count": 15,
   "id": "6b3f657d",
   "metadata": {},
   "outputs": [
    {
     "name": "stdout",
     "output_type": "stream",
     "text": [
      " Volume in drive C is OS\n",
      " Volume Serial Number is AE91-FD4F\n",
      "\n",
      " Directory of C:\\Users\\ASUS\\Intro to ML & ML Process\\Data Pipeline\\data\\raw\n",
      "\n",
      "29/09/2023  22:35    <DIR>          .\n",
      "29/09/2023  19:44    <DIR>          ..\n",
      "29/09/2023  19:34            10.597 indeks-standar-pencemar-udara-di-spku-bulan-agustus-tahun-2021.csv\n",
      "29/09/2023  19:34            10.234 indeks-standar-pencemar-udara-di-spku-bulan-april-tahun-2021.csv\n",
      "29/09/2023  19:34            10.458 indeks-standar-pencemar-udara-di-spku-bulan-desember-tahun-2021.csv\n",
      "29/09/2023  19:34             9.304 indeks-standar-pencemar-udara-di-spku-bulan-februari-tahun-2021.csv\n",
      "29/09/2023  19:34            10.018 indeks-standar-pencemar-udara-di-spku-bulan-januari-tahun-2021.csv\n",
      "29/09/2023  22:35            10.842 indeks-standar-pencemar-udara-di-spku-bulan-juli-tahun-2021.csv\n",
      "29/09/2023  22:35            10.205 indeks-standar-pencemar-udara-di-spku-bulan-juni-tahun-2021.csv\n",
      "29/09/2023  19:34            10.498 indeks-standar-pencemar-udara-di-spku-bulan-maret-tahun-2021.csv\n",
      "29/09/2023  19:34            10.536 indeks-standar-pencemar-udara-di-spku-bulan-mei-tahun-2021.csv\n",
      "29/09/2023  19:34             9.959 indeks-standar-pencemar-udara-di-spku-bulan-november-tahun-2021.csv\n",
      "29/09/2023  19:34            10.655 indeks-standar-pencemar-udara-di-spku-bulan-oktober-tahun-2021.csv\n",
      "29/09/2023  19:34            10.224 indeks-standar-pencemar-udara-di-spku-bulan-september-tahun-2021.csv\n",
      "              12 File(s)        123.530 bytes\n",
      "               2 Dir(s)  17.279.770.624 bytes free\n"
     ]
    }
   ],
   "source": [
    "%ls data\\raw"
   ]
  },
  {
   "cell_type": "code",
   "execution_count": 9,
   "id": "469b65cd",
   "metadata": {},
   "outputs": [
    {
     "data": {
      "text/html": [
       "<div>\n",
       "<style scoped>\n",
       "    .dataframe tbody tr th:only-of-type {\n",
       "        vertical-align: middle;\n",
       "    }\n",
       "\n",
       "    .dataframe tbody tr th {\n",
       "        vertical-align: top;\n",
       "    }\n",
       "\n",
       "    .dataframe thead th {\n",
       "        text-align: right;\n",
       "    }\n",
       "</style>\n",
       "<table border=\"1\" class=\"dataframe\">\n",
       "  <thead>\n",
       "    <tr style=\"text-align: right;\">\n",
       "      <th></th>\n",
       "      <th>tanggal</th>\n",
       "      <th>stasiun</th>\n",
       "      <th>pm10</th>\n",
       "      <th>pm25</th>\n",
       "      <th>so2</th>\n",
       "      <th>co</th>\n",
       "      <th>o3</th>\n",
       "      <th>no2</th>\n",
       "      <th>max</th>\n",
       "      <th>critical</th>\n",
       "      <th>categori</th>\n",
       "    </tr>\n",
       "  </thead>\n",
       "  <tbody>\n",
       "    <tr>\n",
       "      <th>0</th>\n",
       "      <td>2021-09-01</td>\n",
       "      <td>DKI1 (Bunderan HI)</td>\n",
       "      <td>63</td>\n",
       "      <td>88</td>\n",
       "      <td>29</td>\n",
       "      <td>15</td>\n",
       "      <td>24</td>\n",
       "      <td>38</td>\n",
       "      <td>88</td>\n",
       "      <td>PM25</td>\n",
       "      <td>SEDANG</td>\n",
       "    </tr>\n",
       "    <tr>\n",
       "      <th>1</th>\n",
       "      <td>2021-09-02</td>\n",
       "      <td>DKI1 (Bunderan HI)</td>\n",
       "      <td>60</td>\n",
       "      <td>83</td>\n",
       "      <td>29</td>\n",
       "      <td>11</td>\n",
       "      <td>30</td>\n",
       "      <td>28</td>\n",
       "      <td>83</td>\n",
       "      <td>PM25</td>\n",
       "      <td>SEDANG</td>\n",
       "    </tr>\n",
       "    <tr>\n",
       "      <th>2</th>\n",
       "      <td>2021-09-03</td>\n",
       "      <td>DKI1 (Bunderan HI)</td>\n",
       "      <td>60</td>\n",
       "      <td>82</td>\n",
       "      <td>27</td>\n",
       "      <td>11</td>\n",
       "      <td>37</td>\n",
       "      <td>30</td>\n",
       "      <td>82</td>\n",
       "      <td>PM25</td>\n",
       "      <td>SEDANG</td>\n",
       "    </tr>\n",
       "    <tr>\n",
       "      <th>3</th>\n",
       "      <td>2021-09-04</td>\n",
       "      <td>DKI1 (Bunderan HI)</td>\n",
       "      <td>58</td>\n",
       "      <td>77</td>\n",
       "      <td>26</td>\n",
       "      <td>10</td>\n",
       "      <td>31</td>\n",
       "      <td>28</td>\n",
       "      <td>77</td>\n",
       "      <td>PM25</td>\n",
       "      <td>SEDANG</td>\n",
       "    </tr>\n",
       "    <tr>\n",
       "      <th>4</th>\n",
       "      <td>2021-09-05</td>\n",
       "      <td>DKI1 (Bunderan HI)</td>\n",
       "      <td>63</td>\n",
       "      <td>85</td>\n",
       "      <td>27</td>\n",
       "      <td>11</td>\n",
       "      <td>28</td>\n",
       "      <td>28</td>\n",
       "      <td>85</td>\n",
       "      <td>PM25</td>\n",
       "      <td>SEDANG</td>\n",
       "    </tr>\n",
       "    <tr>\n",
       "      <th>...</th>\n",
       "      <td>...</td>\n",
       "      <td>...</td>\n",
       "      <td>...</td>\n",
       "      <td>...</td>\n",
       "      <td>...</td>\n",
       "      <td>...</td>\n",
       "      <td>...</td>\n",
       "      <td>...</td>\n",
       "      <td>...</td>\n",
       "      <td>...</td>\n",
       "      <td>...</td>\n",
       "    </tr>\n",
       "    <tr>\n",
       "      <th>150</th>\n",
       "      <td>2021-08-27</td>\n",
       "      <td>DKI5 (Kebon Jeruk) Jakarta Barat</td>\n",
       "      <td>61</td>\n",
       "      <td>96</td>\n",
       "      <td>34</td>\n",
       "      <td>8</td>\n",
       "      <td>29</td>\n",
       "      <td>15</td>\n",
       "      <td>96</td>\n",
       "      <td>PM25</td>\n",
       "      <td>SEDANG</td>\n",
       "    </tr>\n",
       "    <tr>\n",
       "      <th>151</th>\n",
       "      <td>2021-08-28</td>\n",
       "      <td>DKI5 (Kebon Jeruk) Jakarta Barat</td>\n",
       "      <td>63</td>\n",
       "      <td>100</td>\n",
       "      <td>31</td>\n",
       "      <td>8</td>\n",
       "      <td>44</td>\n",
       "      <td>12</td>\n",
       "      <td>100</td>\n",
       "      <td>PM25</td>\n",
       "      <td>SEDANG</td>\n",
       "    </tr>\n",
       "    <tr>\n",
       "      <th>152</th>\n",
       "      <td>2021-08-29</td>\n",
       "      <td>DKI5 (Kebon Jeruk) Jakarta Barat</td>\n",
       "      <td>67</td>\n",
       "      <td>111</td>\n",
       "      <td>32</td>\n",
       "      <td>10</td>\n",
       "      <td>36</td>\n",
       "      <td>13</td>\n",
       "      <td>111</td>\n",
       "      <td>PM25</td>\n",
       "      <td>TIDAK SEHAT</td>\n",
       "    </tr>\n",
       "    <tr>\n",
       "      <th>153</th>\n",
       "      <td>2021-08-30</td>\n",
       "      <td>DKI5 (Kebon Jeruk) Jakarta Barat</td>\n",
       "      <td>83</td>\n",
       "      <td>126</td>\n",
       "      <td>35</td>\n",
       "      <td>16</td>\n",
       "      <td>32</td>\n",
       "      <td>29</td>\n",
       "      <td>126</td>\n",
       "      <td>PM25</td>\n",
       "      <td>TIDAK SEHAT</td>\n",
       "    </tr>\n",
       "    <tr>\n",
       "      <th>154</th>\n",
       "      <td>2021-08-31</td>\n",
       "      <td>DKI5 (Kebon Jeruk) Jakarta Barat</td>\n",
       "      <td>60</td>\n",
       "      <td>92</td>\n",
       "      <td>30</td>\n",
       "      <td>7</td>\n",
       "      <td>32</td>\n",
       "      <td>14</td>\n",
       "      <td>92</td>\n",
       "      <td>PM25</td>\n",
       "      <td>SEDANG</td>\n",
       "    </tr>\n",
       "  </tbody>\n",
       "</table>\n",
       "<p>1825 rows × 11 columns</p>\n",
       "</div>"
      ],
      "text/plain": [
       "        tanggal                           stasiun pm10 pm25 so2  co  o3 no2  \\\n",
       "0    2021-09-01                DKI1 (Bunderan HI)   63   88  29  15  24  38   \n",
       "1    2021-09-02                DKI1 (Bunderan HI)   60   83  29  11  30  28   \n",
       "2    2021-09-03                DKI1 (Bunderan HI)   60   82  27  11  37  30   \n",
       "3    2021-09-04                DKI1 (Bunderan HI)   58   77  26  10  31  28   \n",
       "4    2021-09-05                DKI1 (Bunderan HI)   63   85  27  11  28  28   \n",
       "..          ...                               ...  ...  ...  ..  ..  ..  ..   \n",
       "150  2021-08-27  DKI5 (Kebon Jeruk) Jakarta Barat   61   96  34   8  29  15   \n",
       "151  2021-08-28  DKI5 (Kebon Jeruk) Jakarta Barat   63  100  31   8  44  12   \n",
       "152  2021-08-29  DKI5 (Kebon Jeruk) Jakarta Barat   67  111  32  10  36  13   \n",
       "153  2021-08-30  DKI5 (Kebon Jeruk) Jakarta Barat   83  126  35  16  32  29   \n",
       "154  2021-08-31  DKI5 (Kebon Jeruk) Jakarta Barat   60   92  30   7  32  14   \n",
       "\n",
       "     max critical     categori  \n",
       "0     88     PM25       SEDANG  \n",
       "1     83     PM25       SEDANG  \n",
       "2     82     PM25       SEDANG  \n",
       "3     77     PM25       SEDANG  \n",
       "4     85     PM25       SEDANG  \n",
       "..   ...      ...          ...  \n",
       "150   96     PM25       SEDANG  \n",
       "151  100     PM25       SEDANG  \n",
       "152  111     PM25  TIDAK SEHAT  \n",
       "153  126     PM25  TIDAK SEHAT  \n",
       "154   92     PM25       SEDANG  \n",
       "\n",
       "[1825 rows x 11 columns]"
      ]
     },
     "execution_count": 9,
     "metadata": {},
     "output_type": "execute_result"
    }
   ],
   "source": [
    "# cek kondisi dataset\n",
    "dataset"
   ]
  },
  {
   "cell_type": "code",
   "execution_count": 10,
   "id": "650b2a67",
   "metadata": {},
   "outputs": [],
   "source": [
    "# reset index untuk mengatasi poin pertama\n",
    "dataset.reset_index(inplace = True, drop = True)"
   ]
  },
  {
   "cell_type": "code",
   "execution_count": 11,
   "id": "08265338",
   "metadata": {},
   "outputs": [
    {
     "data": {
      "text/html": [
       "<div>\n",
       "<style scoped>\n",
       "    .dataframe tbody tr th:only-of-type {\n",
       "        vertical-align: middle;\n",
       "    }\n",
       "\n",
       "    .dataframe tbody tr th {\n",
       "        vertical-align: top;\n",
       "    }\n",
       "\n",
       "    .dataframe thead th {\n",
       "        text-align: right;\n",
       "    }\n",
       "</style>\n",
       "<table border=\"1\" class=\"dataframe\">\n",
       "  <thead>\n",
       "    <tr style=\"text-align: right;\">\n",
       "      <th></th>\n",
       "      <th>tanggal</th>\n",
       "      <th>stasiun</th>\n",
       "      <th>pm10</th>\n",
       "      <th>pm25</th>\n",
       "      <th>so2</th>\n",
       "      <th>co</th>\n",
       "      <th>o3</th>\n",
       "      <th>no2</th>\n",
       "      <th>max</th>\n",
       "      <th>critical</th>\n",
       "      <th>categori</th>\n",
       "    </tr>\n",
       "  </thead>\n",
       "  <tbody>\n",
       "    <tr>\n",
       "      <th>0</th>\n",
       "      <td>2021-09-01</td>\n",
       "      <td>DKI1 (Bunderan HI)</td>\n",
       "      <td>63</td>\n",
       "      <td>88</td>\n",
       "      <td>29</td>\n",
       "      <td>15</td>\n",
       "      <td>24</td>\n",
       "      <td>38</td>\n",
       "      <td>88</td>\n",
       "      <td>PM25</td>\n",
       "      <td>SEDANG</td>\n",
       "    </tr>\n",
       "    <tr>\n",
       "      <th>1</th>\n",
       "      <td>2021-09-02</td>\n",
       "      <td>DKI1 (Bunderan HI)</td>\n",
       "      <td>60</td>\n",
       "      <td>83</td>\n",
       "      <td>29</td>\n",
       "      <td>11</td>\n",
       "      <td>30</td>\n",
       "      <td>28</td>\n",
       "      <td>83</td>\n",
       "      <td>PM25</td>\n",
       "      <td>SEDANG</td>\n",
       "    </tr>\n",
       "    <tr>\n",
       "      <th>2</th>\n",
       "      <td>2021-09-03</td>\n",
       "      <td>DKI1 (Bunderan HI)</td>\n",
       "      <td>60</td>\n",
       "      <td>82</td>\n",
       "      <td>27</td>\n",
       "      <td>11</td>\n",
       "      <td>37</td>\n",
       "      <td>30</td>\n",
       "      <td>82</td>\n",
       "      <td>PM25</td>\n",
       "      <td>SEDANG</td>\n",
       "    </tr>\n",
       "    <tr>\n",
       "      <th>3</th>\n",
       "      <td>2021-09-04</td>\n",
       "      <td>DKI1 (Bunderan HI)</td>\n",
       "      <td>58</td>\n",
       "      <td>77</td>\n",
       "      <td>26</td>\n",
       "      <td>10</td>\n",
       "      <td>31</td>\n",
       "      <td>28</td>\n",
       "      <td>77</td>\n",
       "      <td>PM25</td>\n",
       "      <td>SEDANG</td>\n",
       "    </tr>\n",
       "    <tr>\n",
       "      <th>4</th>\n",
       "      <td>2021-09-05</td>\n",
       "      <td>DKI1 (Bunderan HI)</td>\n",
       "      <td>63</td>\n",
       "      <td>85</td>\n",
       "      <td>27</td>\n",
       "      <td>11</td>\n",
       "      <td>28</td>\n",
       "      <td>28</td>\n",
       "      <td>85</td>\n",
       "      <td>PM25</td>\n",
       "      <td>SEDANG</td>\n",
       "    </tr>\n",
       "    <tr>\n",
       "      <th>...</th>\n",
       "      <td>...</td>\n",
       "      <td>...</td>\n",
       "      <td>...</td>\n",
       "      <td>...</td>\n",
       "      <td>...</td>\n",
       "      <td>...</td>\n",
       "      <td>...</td>\n",
       "      <td>...</td>\n",
       "      <td>...</td>\n",
       "      <td>...</td>\n",
       "      <td>...</td>\n",
       "    </tr>\n",
       "    <tr>\n",
       "      <th>1820</th>\n",
       "      <td>2021-08-27</td>\n",
       "      <td>DKI5 (Kebon Jeruk) Jakarta Barat</td>\n",
       "      <td>61</td>\n",
       "      <td>96</td>\n",
       "      <td>34</td>\n",
       "      <td>8</td>\n",
       "      <td>29</td>\n",
       "      <td>15</td>\n",
       "      <td>96</td>\n",
       "      <td>PM25</td>\n",
       "      <td>SEDANG</td>\n",
       "    </tr>\n",
       "    <tr>\n",
       "      <th>1821</th>\n",
       "      <td>2021-08-28</td>\n",
       "      <td>DKI5 (Kebon Jeruk) Jakarta Barat</td>\n",
       "      <td>63</td>\n",
       "      <td>100</td>\n",
       "      <td>31</td>\n",
       "      <td>8</td>\n",
       "      <td>44</td>\n",
       "      <td>12</td>\n",
       "      <td>100</td>\n",
       "      <td>PM25</td>\n",
       "      <td>SEDANG</td>\n",
       "    </tr>\n",
       "    <tr>\n",
       "      <th>1822</th>\n",
       "      <td>2021-08-29</td>\n",
       "      <td>DKI5 (Kebon Jeruk) Jakarta Barat</td>\n",
       "      <td>67</td>\n",
       "      <td>111</td>\n",
       "      <td>32</td>\n",
       "      <td>10</td>\n",
       "      <td>36</td>\n",
       "      <td>13</td>\n",
       "      <td>111</td>\n",
       "      <td>PM25</td>\n",
       "      <td>TIDAK SEHAT</td>\n",
       "    </tr>\n",
       "    <tr>\n",
       "      <th>1823</th>\n",
       "      <td>2021-08-30</td>\n",
       "      <td>DKI5 (Kebon Jeruk) Jakarta Barat</td>\n",
       "      <td>83</td>\n",
       "      <td>126</td>\n",
       "      <td>35</td>\n",
       "      <td>16</td>\n",
       "      <td>32</td>\n",
       "      <td>29</td>\n",
       "      <td>126</td>\n",
       "      <td>PM25</td>\n",
       "      <td>TIDAK SEHAT</td>\n",
       "    </tr>\n",
       "    <tr>\n",
       "      <th>1824</th>\n",
       "      <td>2021-08-31</td>\n",
       "      <td>DKI5 (Kebon Jeruk) Jakarta Barat</td>\n",
       "      <td>60</td>\n",
       "      <td>92</td>\n",
       "      <td>30</td>\n",
       "      <td>7</td>\n",
       "      <td>32</td>\n",
       "      <td>14</td>\n",
       "      <td>92</td>\n",
       "      <td>PM25</td>\n",
       "      <td>SEDANG</td>\n",
       "    </tr>\n",
       "  </tbody>\n",
       "</table>\n",
       "<p>1825 rows × 11 columns</p>\n",
       "</div>"
      ],
      "text/plain": [
       "         tanggal                           stasiun pm10 pm25 so2  co  o3 no2  \\\n",
       "0     2021-09-01                DKI1 (Bunderan HI)   63   88  29  15  24  38   \n",
       "1     2021-09-02                DKI1 (Bunderan HI)   60   83  29  11  30  28   \n",
       "2     2021-09-03                DKI1 (Bunderan HI)   60   82  27  11  37  30   \n",
       "3     2021-09-04                DKI1 (Bunderan HI)   58   77  26  10  31  28   \n",
       "4     2021-09-05                DKI1 (Bunderan HI)   63   85  27  11  28  28   \n",
       "...          ...                               ...  ...  ...  ..  ..  ..  ..   \n",
       "1820  2021-08-27  DKI5 (Kebon Jeruk) Jakarta Barat   61   96  34   8  29  15   \n",
       "1821  2021-08-28  DKI5 (Kebon Jeruk) Jakarta Barat   63  100  31   8  44  12   \n",
       "1822  2021-08-29  DKI5 (Kebon Jeruk) Jakarta Barat   67  111  32  10  36  13   \n",
       "1823  2021-08-30  DKI5 (Kebon Jeruk) Jakarta Barat   83  126  35  16  32  29   \n",
       "1824  2021-08-31  DKI5 (Kebon Jeruk) Jakarta Barat   60   92  30   7  32  14   \n",
       "\n",
       "      max critical     categori  \n",
       "0      88     PM25       SEDANG  \n",
       "1      83     PM25       SEDANG  \n",
       "2      82     PM25       SEDANG  \n",
       "3      77     PM25       SEDANG  \n",
       "4      85     PM25       SEDANG  \n",
       "...   ...      ...          ...  \n",
       "1820   96     PM25       SEDANG  \n",
       "1821  100     PM25       SEDANG  \n",
       "1822  111     PM25  TIDAK SEHAT  \n",
       "1823  126     PM25  TIDAK SEHAT  \n",
       "1824   92     PM25       SEDANG  \n",
       "\n",
       "[1825 rows x 11 columns]"
      ]
     },
     "execution_count": 11,
     "metadata": {},
     "output_type": "execute_result"
    }
   ],
   "source": [
    "dataset"
   ]
  },
  {
   "cell_type": "code",
   "execution_count": 12,
   "id": "b5884504",
   "metadata": {},
   "outputs": [
    {
     "data": {
      "text/plain": [
       "['data/processed/dataset.pkl']"
      ]
     },
     "execution_count": 12,
     "metadata": {},
     "output_type": "execute_result"
    }
   ],
   "source": [
    "# simpan dataset yang telah digabungkan\n",
    "joblib.dump(dataset, \"data/processed/dataset.pkl\")"
   ]
  },
  {
   "cell_type": "code",
   "execution_count": 13,
   "id": "2f9960ec",
   "metadata": {},
   "outputs": [
    {
     "name": "stdout",
     "output_type": "stream",
     "text": [
      "dataset.pkl\n"
     ]
    }
   ],
   "source": [
    "!ls data/processed"
   ]
  },
  {
   "cell_type": "markdown",
   "id": "58c14006",
   "metadata": {},
   "source": [
    "## 2. Data Definition"
   ]
  },
  {
   "cell_type": "raw",
   "id": "914cabec",
   "metadata": {},
   "source": [
    "tanggal         :\n",
    "    [datetime]\n",
    "    [00:00 01/06/2021 - 23:59 31/12/2021]\n",
    "    waktu saat pengambilan sampel\n",
    "\n",
    "stasiun         :\n",
    "    [object]\n",
    "    ['DKI1 (Bunderan HI)', 'DKI2 (Kelapa Gading)', 'DKI3 (Jagakarsa)', 'DKI4 (Lubang Buaya)', 'DKI5 (Kebon Jeruk) Jakarta Barat']\n",
    "    lokasi saat pengambilan sampel\n",
    "\n",
    "pm10            :\n",
    "    [integer]\n",
    "    [0 - 800]\n",
    "    partikel udara yang berukuran lebih kecil dari 10 mikron\n",
    "\n",
    "pm25            :\n",
    "    [integer]\n",
    "    [0 - 400]\n",
    "    partikel udara yang berukuran lebih kecil dari 2.5 mikron\n",
    "\n",
    "so2             :\n",
    "    [integer]\n",
    "    [0 - 500]\n",
    "    sulfur dioksida\n",
    "\n",
    "co              :\n",
    "    [integer]\n",
    "    [0 - 100]\n",
    "    karbon monoksida\n",
    "\n",
    "o3              :\n",
    "    [integer]\n",
    "    [0 - 140]\n",
    "    ozone\n",
    "\n",
    "no2             :\n",
    "    [integer]\n",
    "    [0 - 100]\n",
    "    nitrogen dioksida\n",
    "\n",
    "max             :\n",
    "    [integer]\n",
    "    [0 - 800]\n",
    "    nilai paling besar diantara pm10, pm25, so2, co, o3, dan no2\n",
    "\n",
    "critical        :\n",
    "    [object]\n",
    "    [PM10, PM25, SO2, CO, O3, dan NO2]\n",
    "    nama kolom untuk nilai max\n",
    "\n",
    "categori        :\n",
    "    [object]\n",
    "    [BAIK, SEDANG, TIDAK SEHAT]\n",
    "    kategori untuk data pengukuran udara\n",
    "\n",
    "location        : tidak termasuk karena ada data yang nama kolomnya tidak standar"
   ]
  },
  {
   "cell_type": "markdown",
   "id": "e57ddd28",
   "metadata": {},
   "source": [
    "## 3. Data Validation"
   ]
  },
  {
   "cell_type": "markdown",
   "id": "3920e423",
   "metadata": {},
   "source": [
    "### 3.1. Tipe Data"
   ]
  },
  {
   "cell_type": "code",
   "execution_count": 16,
   "id": "30075e26",
   "metadata": {},
   "outputs": [
    {
     "data": {
      "text/plain": [
       "tanggal     object\n",
       "stasiun     object\n",
       "pm10        object\n",
       "pm25        object\n",
       "so2         object\n",
       "co          object\n",
       "o3          object\n",
       "no2         object\n",
       "max         object\n",
       "critical    object\n",
       "categori    object\n",
       "dtype: object"
      ]
     },
     "execution_count": 16,
     "metadata": {},
     "output_type": "execute_result"
    }
   ],
   "source": [
    "# cek tipe data\n",
    "dataset.dtypes"
   ]
  },
  {
   "cell_type": "markdown",
   "id": "78c8611b",
   "metadata": {},
   "source": [
    "### 3.2. Range"
   ]
  },
  {
   "cell_type": "code",
   "execution_count": 17,
   "id": "c3fe8498",
   "metadata": {},
   "outputs": [
    {
     "data": {
      "text/html": [
       "<div>\n",
       "<style scoped>\n",
       "    .dataframe tbody tr th:only-of-type {\n",
       "        vertical-align: middle;\n",
       "    }\n",
       "\n",
       "    .dataframe tbody tr th {\n",
       "        vertical-align: top;\n",
       "    }\n",
       "\n",
       "    .dataframe thead th {\n",
       "        text-align: right;\n",
       "    }\n",
       "</style>\n",
       "<table border=\"1\" class=\"dataframe\">\n",
       "  <thead>\n",
       "    <tr style=\"text-align: right;\">\n",
       "      <th></th>\n",
       "      <th>tanggal</th>\n",
       "      <th>stasiun</th>\n",
       "      <th>pm10</th>\n",
       "      <th>pm25</th>\n",
       "      <th>so2</th>\n",
       "      <th>co</th>\n",
       "      <th>o3</th>\n",
       "      <th>no2</th>\n",
       "      <th>max</th>\n",
       "      <th>critical</th>\n",
       "      <th>categori</th>\n",
       "    </tr>\n",
       "  </thead>\n",
       "  <tbody>\n",
       "    <tr>\n",
       "      <th>count</th>\n",
       "      <td>1825</td>\n",
       "      <td>1825</td>\n",
       "      <td>1825</td>\n",
       "      <td>1763</td>\n",
       "      <td>1825</td>\n",
       "      <td>1825</td>\n",
       "      <td>1825</td>\n",
       "      <td>1825</td>\n",
       "      <td>1825</td>\n",
       "      <td>1809</td>\n",
       "      <td>1824</td>\n",
       "    </tr>\n",
       "    <tr>\n",
       "      <th>unique</th>\n",
       "      <td>365</td>\n",
       "      <td>5</td>\n",
       "      <td>130</td>\n",
       "      <td>192</td>\n",
       "      <td>121</td>\n",
       "      <td>54</td>\n",
       "      <td>121</td>\n",
       "      <td>96</td>\n",
       "      <td>187</td>\n",
       "      <td>6</td>\n",
       "      <td>4</td>\n",
       "    </tr>\n",
       "    <tr>\n",
       "      <th>top</th>\n",
       "      <td>2021-09-01</td>\n",
       "      <td>DKI1 (Bunderan HI)</td>\n",
       "      <td>51</td>\n",
       "      <td>77</td>\n",
       "      <td>---</td>\n",
       "      <td>9</td>\n",
       "      <td>---</td>\n",
       "      <td>13</td>\n",
       "      <td>77</td>\n",
       "      <td>PM25</td>\n",
       "      <td>SEDANG</td>\n",
       "    </tr>\n",
       "    <tr>\n",
       "      <th>freq</th>\n",
       "      <td>5</td>\n",
       "      <td>365</td>\n",
       "      <td>69</td>\n",
       "      <td>45</td>\n",
       "      <td>114</td>\n",
       "      <td>163</td>\n",
       "      <td>68</td>\n",
       "      <td>81</td>\n",
       "      <td>50</td>\n",
       "      <td>1630</td>\n",
       "      <td>1349</td>\n",
       "    </tr>\n",
       "  </tbody>\n",
       "</table>\n",
       "</div>"
      ],
      "text/plain": [
       "           tanggal             stasiun  pm10  pm25   so2    co    o3   no2  \\\n",
       "count         1825                1825  1825  1763  1825  1825  1825  1825   \n",
       "unique         365                   5   130   192   121    54   121    96   \n",
       "top     2021-09-01  DKI1 (Bunderan HI)    51    77   ---     9   ---    13   \n",
       "freq             5                 365    69    45   114   163    68    81   \n",
       "\n",
       "         max critical categori  \n",
       "count   1825     1809     1824  \n",
       "unique   187        6        4  \n",
       "top       77     PM25   SEDANG  \n",
       "freq      50     1630     1349  "
      ]
     },
     "execution_count": 17,
     "metadata": {},
     "output_type": "execute_result"
    }
   ],
   "source": [
    "# pengecekan cakupan data menjadi kacau jika tipe data tidak sesuai\n",
    "dataset.describe()"
   ]
  },
  {
   "cell_type": "markdown",
   "id": "af8bf808",
   "metadata": {},
   "source": [
    "### 3.3. Dimensi Data"
   ]
  },
  {
   "cell_type": "code",
   "execution_count": 18,
   "id": "439753c1",
   "metadata": {},
   "outputs": [
    {
     "data": {
      "text/plain": [
       "(1825, 11)"
      ]
     },
     "execution_count": 18,
     "metadata": {},
     "output_type": "execute_result"
    }
   ],
   "source": [
    "# dimensi data kemungkinan besar tidak terpengaruh, namun nanti kita kembali lagi\n",
    "dataset.shape"
   ]
  },
  {
   "cell_type": "markdown",
   "id": "4e2e9132",
   "metadata": {},
   "source": [
    "### 3.4. Handling Columns Error:"
   ]
  },
  {
   "cell_type": "markdown",
   "id": "fc00357f",
   "metadata": {},
   "source": [
    "### 3.5. Handing Column \"Tanggal\""
   ]
  },
  {
   "cell_type": "code",
   "execution_count": 19,
   "id": "e6039c42",
   "metadata": {},
   "outputs": [
    {
     "name": "stdout",
     "output_type": "stream",
     "text": [
      "<class 'pandas.core.frame.DataFrame'>\n",
      "RangeIndex: 1825 entries, 0 to 1824\n",
      "Data columns (total 11 columns):\n",
      " #   Column    Non-Null Count  Dtype \n",
      "---  ------    --------------  ----- \n",
      " 0   tanggal   1825 non-null   object\n",
      " 1   stasiun   1825 non-null   object\n",
      " 2   pm10      1825 non-null   object\n",
      " 3   pm25      1763 non-null   object\n",
      " 4   so2       1825 non-null   object\n",
      " 5   co        1825 non-null   object\n",
      " 6   o3        1825 non-null   object\n",
      " 7   no2       1825 non-null   object\n",
      " 8   max       1825 non-null   object\n",
      " 9   critical  1809 non-null   object\n",
      " 10  categori  1824 non-null   object\n",
      "dtypes: object(11)\n",
      "memory usage: 157.0+ KB\n"
     ]
    }
   ],
   "source": [
    "# cek tipe data pada kolom tanggal\n",
    "dataset.info()"
   ]
  },
  {
   "cell_type": "code",
   "execution_count": 20,
   "id": "6b434d1c",
   "metadata": {},
   "outputs": [],
   "source": [
    "# casting tipe data ke datetime\n",
    "dataset.tanggal = pd.to_datetime(dataset.tanggal)"
   ]
  },
  {
   "cell_type": "code",
   "execution_count": 21,
   "id": "9e16cb06",
   "metadata": {},
   "outputs": [
    {
     "name": "stdout",
     "output_type": "stream",
     "text": [
      "<class 'pandas.core.frame.DataFrame'>\n",
      "RangeIndex: 1825 entries, 0 to 1824\n",
      "Data columns (total 11 columns):\n",
      " #   Column    Non-Null Count  Dtype         \n",
      "---  ------    --------------  -----         \n",
      " 0   tanggal   1825 non-null   datetime64[ns]\n",
      " 1   stasiun   1825 non-null   object        \n",
      " 2   pm10      1825 non-null   object        \n",
      " 3   pm25      1763 non-null   object        \n",
      " 4   so2       1825 non-null   object        \n",
      " 5   co        1825 non-null   object        \n",
      " 6   o3        1825 non-null   object        \n",
      " 7   no2       1825 non-null   object        \n",
      " 8   max       1825 non-null   object        \n",
      " 9   critical  1809 non-null   object        \n",
      " 10  categori  1824 non-null   object        \n",
      "dtypes: datetime64[ns](1), object(10)\n",
      "memory usage: 157.0+ KB\n"
     ]
    }
   ],
   "source": [
    "# cek perubahan tipe data untuk kolom tanggal\n",
    "dataset.info()"
   ]
  },
  {
   "cell_type": "markdown",
   "id": "9df6b086",
   "metadata": {},
   "source": [
    "### 3.6. Handling Column \"PM10\""
   ]
  },
  {
   "cell_type": "code",
   "execution_count": 22,
   "id": "2fcaa162",
   "metadata": {},
   "outputs": [
    {
     "data": {
      "text/html": [
       "<div>\n",
       "<style scoped>\n",
       "    .dataframe tbody tr th:only-of-type {\n",
       "        vertical-align: middle;\n",
       "    }\n",
       "\n",
       "    .dataframe tbody tr th {\n",
       "        vertical-align: top;\n",
       "    }\n",
       "\n",
       "    .dataframe thead th {\n",
       "        text-align: right;\n",
       "    }\n",
       "</style>\n",
       "<table border=\"1\" class=\"dataframe\">\n",
       "  <thead>\n",
       "    <tr style=\"text-align: right;\">\n",
       "      <th></th>\n",
       "      <th>tanggal</th>\n",
       "      <th>stasiun</th>\n",
       "      <th>pm10</th>\n",
       "      <th>pm25</th>\n",
       "      <th>so2</th>\n",
       "      <th>co</th>\n",
       "      <th>o3</th>\n",
       "      <th>no2</th>\n",
       "      <th>max</th>\n",
       "      <th>critical</th>\n",
       "      <th>categori</th>\n",
       "    </tr>\n",
       "  </thead>\n",
       "  <tbody>\n",
       "    <tr>\n",
       "      <th>0</th>\n",
       "      <td>2021-09-01</td>\n",
       "      <td>DKI1 (Bunderan HI)</td>\n",
       "      <td>63</td>\n",
       "      <td>88</td>\n",
       "      <td>29</td>\n",
       "      <td>15</td>\n",
       "      <td>24</td>\n",
       "      <td>38</td>\n",
       "      <td>88</td>\n",
       "      <td>PM25</td>\n",
       "      <td>SEDANG</td>\n",
       "    </tr>\n",
       "    <tr>\n",
       "      <th>1</th>\n",
       "      <td>2021-09-02</td>\n",
       "      <td>DKI1 (Bunderan HI)</td>\n",
       "      <td>60</td>\n",
       "      <td>83</td>\n",
       "      <td>29</td>\n",
       "      <td>11</td>\n",
       "      <td>30</td>\n",
       "      <td>28</td>\n",
       "      <td>83</td>\n",
       "      <td>PM25</td>\n",
       "      <td>SEDANG</td>\n",
       "    </tr>\n",
       "    <tr>\n",
       "      <th>2</th>\n",
       "      <td>2021-09-03</td>\n",
       "      <td>DKI1 (Bunderan HI)</td>\n",
       "      <td>60</td>\n",
       "      <td>82</td>\n",
       "      <td>27</td>\n",
       "      <td>11</td>\n",
       "      <td>37</td>\n",
       "      <td>30</td>\n",
       "      <td>82</td>\n",
       "      <td>PM25</td>\n",
       "      <td>SEDANG</td>\n",
       "    </tr>\n",
       "    <tr>\n",
       "      <th>3</th>\n",
       "      <td>2021-09-04</td>\n",
       "      <td>DKI1 (Bunderan HI)</td>\n",
       "      <td>58</td>\n",
       "      <td>77</td>\n",
       "      <td>26</td>\n",
       "      <td>10</td>\n",
       "      <td>31</td>\n",
       "      <td>28</td>\n",
       "      <td>77</td>\n",
       "      <td>PM25</td>\n",
       "      <td>SEDANG</td>\n",
       "    </tr>\n",
       "    <tr>\n",
       "      <th>4</th>\n",
       "      <td>2021-09-05</td>\n",
       "      <td>DKI1 (Bunderan HI)</td>\n",
       "      <td>63</td>\n",
       "      <td>85</td>\n",
       "      <td>27</td>\n",
       "      <td>11</td>\n",
       "      <td>28</td>\n",
       "      <td>28</td>\n",
       "      <td>85</td>\n",
       "      <td>PM25</td>\n",
       "      <td>SEDANG</td>\n",
       "    </tr>\n",
       "    <tr>\n",
       "      <th>...</th>\n",
       "      <td>...</td>\n",
       "      <td>...</td>\n",
       "      <td>...</td>\n",
       "      <td>...</td>\n",
       "      <td>...</td>\n",
       "      <td>...</td>\n",
       "      <td>...</td>\n",
       "      <td>...</td>\n",
       "      <td>...</td>\n",
       "      <td>...</td>\n",
       "      <td>...</td>\n",
       "    </tr>\n",
       "    <tr>\n",
       "      <th>1820</th>\n",
       "      <td>2021-08-27</td>\n",
       "      <td>DKI5 (Kebon Jeruk) Jakarta Barat</td>\n",
       "      <td>61</td>\n",
       "      <td>96</td>\n",
       "      <td>34</td>\n",
       "      <td>8</td>\n",
       "      <td>29</td>\n",
       "      <td>15</td>\n",
       "      <td>96</td>\n",
       "      <td>PM25</td>\n",
       "      <td>SEDANG</td>\n",
       "    </tr>\n",
       "    <tr>\n",
       "      <th>1821</th>\n",
       "      <td>2021-08-28</td>\n",
       "      <td>DKI5 (Kebon Jeruk) Jakarta Barat</td>\n",
       "      <td>63</td>\n",
       "      <td>100</td>\n",
       "      <td>31</td>\n",
       "      <td>8</td>\n",
       "      <td>44</td>\n",
       "      <td>12</td>\n",
       "      <td>100</td>\n",
       "      <td>PM25</td>\n",
       "      <td>SEDANG</td>\n",
       "    </tr>\n",
       "    <tr>\n",
       "      <th>1822</th>\n",
       "      <td>2021-08-29</td>\n",
       "      <td>DKI5 (Kebon Jeruk) Jakarta Barat</td>\n",
       "      <td>67</td>\n",
       "      <td>111</td>\n",
       "      <td>32</td>\n",
       "      <td>10</td>\n",
       "      <td>36</td>\n",
       "      <td>13</td>\n",
       "      <td>111</td>\n",
       "      <td>PM25</td>\n",
       "      <td>TIDAK SEHAT</td>\n",
       "    </tr>\n",
       "    <tr>\n",
       "      <th>1823</th>\n",
       "      <td>2021-08-30</td>\n",
       "      <td>DKI5 (Kebon Jeruk) Jakarta Barat</td>\n",
       "      <td>83</td>\n",
       "      <td>126</td>\n",
       "      <td>35</td>\n",
       "      <td>16</td>\n",
       "      <td>32</td>\n",
       "      <td>29</td>\n",
       "      <td>126</td>\n",
       "      <td>PM25</td>\n",
       "      <td>TIDAK SEHAT</td>\n",
       "    </tr>\n",
       "    <tr>\n",
       "      <th>1824</th>\n",
       "      <td>2021-08-31</td>\n",
       "      <td>DKI5 (Kebon Jeruk) Jakarta Barat</td>\n",
       "      <td>60</td>\n",
       "      <td>92</td>\n",
       "      <td>30</td>\n",
       "      <td>7</td>\n",
       "      <td>32</td>\n",
       "      <td>14</td>\n",
       "      <td>92</td>\n",
       "      <td>PM25</td>\n",
       "      <td>SEDANG</td>\n",
       "    </tr>\n",
       "  </tbody>\n",
       "</table>\n",
       "<p>1825 rows × 11 columns</p>\n",
       "</div>"
      ],
      "text/plain": [
       "        tanggal                           stasiun pm10 pm25 so2  co  o3 no2  \\\n",
       "0    2021-09-01                DKI1 (Bunderan HI)   63   88  29  15  24  38   \n",
       "1    2021-09-02                DKI1 (Bunderan HI)   60   83  29  11  30  28   \n",
       "2    2021-09-03                DKI1 (Bunderan HI)   60   82  27  11  37  30   \n",
       "3    2021-09-04                DKI1 (Bunderan HI)   58   77  26  10  31  28   \n",
       "4    2021-09-05                DKI1 (Bunderan HI)   63   85  27  11  28  28   \n",
       "...         ...                               ...  ...  ...  ..  ..  ..  ..   \n",
       "1820 2021-08-27  DKI5 (Kebon Jeruk) Jakarta Barat   61   96  34   8  29  15   \n",
       "1821 2021-08-28  DKI5 (Kebon Jeruk) Jakarta Barat   63  100  31   8  44  12   \n",
       "1822 2021-08-29  DKI5 (Kebon Jeruk) Jakarta Barat   67  111  32  10  36  13   \n",
       "1823 2021-08-30  DKI5 (Kebon Jeruk) Jakarta Barat   83  126  35  16  32  29   \n",
       "1824 2021-08-31  DKI5 (Kebon Jeruk) Jakarta Barat   60   92  30   7  32  14   \n",
       "\n",
       "      max critical     categori  \n",
       "0      88     PM25       SEDANG  \n",
       "1      83     PM25       SEDANG  \n",
       "2      82     PM25       SEDANG  \n",
       "3      77     PM25       SEDANG  \n",
       "4      85     PM25       SEDANG  \n",
       "...   ...      ...          ...  \n",
       "1820   96     PM25       SEDANG  \n",
       "1821  100     PM25       SEDANG  \n",
       "1822  111     PM25  TIDAK SEHAT  \n",
       "1823  126     PM25  TIDAK SEHAT  \n",
       "1824   92     PM25       SEDANG  \n",
       "\n",
       "[1825 rows x 11 columns]"
      ]
     },
     "execution_count": 22,
     "metadata": {},
     "output_type": "execute_result"
    }
   ],
   "source": [
    "# terlihat tidak ada masalah pada kolom pm10\n",
    "dataset"
   ]
  },
  {
   "cell_type": "code",
   "execution_count": 23,
   "id": "15c87e06",
   "metadata": {},
   "outputs": [
    {
     "name": "stdout",
     "output_type": "stream",
     "text": [
      "<class 'pandas.core.frame.DataFrame'>\n",
      "RangeIndex: 1825 entries, 0 to 1824\n",
      "Data columns (total 11 columns):\n",
      " #   Column    Non-Null Count  Dtype         \n",
      "---  ------    --------------  -----         \n",
      " 0   tanggal   1825 non-null   datetime64[ns]\n",
      " 1   stasiun   1825 non-null   object        \n",
      " 2   pm10      1825 non-null   object        \n",
      " 3   pm25      1763 non-null   object        \n",
      " 4   so2       1825 non-null   object        \n",
      " 5   co        1825 non-null   object        \n",
      " 6   o3        1825 non-null   object        \n",
      " 7   no2       1825 non-null   object        \n",
      " 8   max       1825 non-null   object        \n",
      " 9   critical  1809 non-null   object        \n",
      " 10  categori  1824 non-null   object        \n",
      "dtypes: datetime64[ns](1), object(10)\n",
      "memory usage: 157.0+ KB\n"
     ]
    }
   ],
   "source": [
    "# namun kolom pm10 bukanlah bertipe integer\n",
    "dataset.info()"
   ]
  },
  {
   "cell_type": "code",
   "execution_count": 26,
   "id": "8f4e98e3",
   "metadata": {},
   "outputs": [
    {
     "data": {
      "text/html": [
       "<div>\n",
       "<style scoped>\n",
       "    .dataframe tbody tr th:only-of-type {\n",
       "        vertical-align: middle;\n",
       "    }\n",
       "\n",
       "    .dataframe tbody tr th {\n",
       "        vertical-align: top;\n",
       "    }\n",
       "\n",
       "    .dataframe thead th {\n",
       "        text-align: right;\n",
       "    }\n",
       "</style>\n",
       "<table border=\"1\" class=\"dataframe\">\n",
       "  <thead>\n",
       "    <tr style=\"text-align: right;\">\n",
       "      <th></th>\n",
       "      <th>tanggal</th>\n",
       "      <th>stasiun</th>\n",
       "      <th>pm10</th>\n",
       "      <th>pm25</th>\n",
       "      <th>so2</th>\n",
       "      <th>co</th>\n",
       "      <th>o3</th>\n",
       "      <th>no2</th>\n",
       "      <th>max</th>\n",
       "      <th>critical</th>\n",
       "      <th>categori</th>\n",
       "    </tr>\n",
       "  </thead>\n",
       "  <tbody>\n",
       "  </tbody>\n",
       "</table>\n",
       "</div>"
      ],
      "text/plain": [
       "Empty DataFrame\n",
       "Columns: [tanggal, stasiun, pm10, pm25, so2, co, o3, no2, max, critical, categori]\n",
       "Index: []"
      ]
     },
     "execution_count": 26,
     "metadata": {},
     "output_type": "execute_result"
    }
   ],
   "source": [
    "# sanity check\n",
    "dataset[(dataset.eq(\"-1\").any(1)) | (dataset.eq(-1).any(1))] "
   ]
  },
  {
   "cell_type": "code",
   "execution_count": 27,
   "id": "0b91a166",
   "metadata": {},
   "outputs": [],
   "source": [
    "# replace value pm10 yang bertipe string dengan -1\n",
    "dataset.pm10 = dataset.pm10.replace(\"---\", -1).astype(int)"
   ]
  },
  {
   "cell_type": "code",
   "execution_count": 28,
   "id": "ec7e2ade",
   "metadata": {},
   "outputs": [
    {
     "name": "stdout",
     "output_type": "stream",
     "text": [
      "<class 'pandas.core.frame.DataFrame'>\n",
      "RangeIndex: 1825 entries, 0 to 1824\n",
      "Data columns (total 11 columns):\n",
      " #   Column    Non-Null Count  Dtype         \n",
      "---  ------    --------------  -----         \n",
      " 0   tanggal   1825 non-null   datetime64[ns]\n",
      " 1   stasiun   1825 non-null   object        \n",
      " 2   pm10      1825 non-null   int32         \n",
      " 3   pm25      1763 non-null   object        \n",
      " 4   so2       1825 non-null   object        \n",
      " 5   co        1825 non-null   object        \n",
      " 6   o3        1825 non-null   object        \n",
      " 7   no2       1825 non-null   object        \n",
      " 8   max       1825 non-null   object        \n",
      " 9   critical  1809 non-null   object        \n",
      " 10  categori  1824 non-null   object        \n",
      "dtypes: datetime64[ns](1), int32(1), object(9)\n",
      "memory usage: 149.8+ KB\n"
     ]
    }
   ],
   "source": [
    "# cek tipe data\n",
    "dataset.info()"
   ]
  },
  {
   "cell_type": "markdown",
   "id": "31de13f9",
   "metadata": {},
   "source": [
    "### 3.7. Handling Column \"PM25\""
   ]
  },
  {
   "cell_type": "code",
   "execution_count": 29,
   "id": "93bf8550",
   "metadata": {},
   "outputs": [
    {
     "name": "stdout",
     "output_type": "stream",
     "text": [
      "<class 'pandas.core.frame.DataFrame'>\n",
      "RangeIndex: 1825 entries, 0 to 1824\n",
      "Data columns (total 11 columns):\n",
      " #   Column    Non-Null Count  Dtype         \n",
      "---  ------    --------------  -----         \n",
      " 0   tanggal   1825 non-null   datetime64[ns]\n",
      " 1   stasiun   1825 non-null   object        \n",
      " 2   pm10      1825 non-null   int32         \n",
      " 3   pm25      1763 non-null   object        \n",
      " 4   so2       1825 non-null   object        \n",
      " 5   co        1825 non-null   object        \n",
      " 6   o3        1825 non-null   object        \n",
      " 7   no2       1825 non-null   object        \n",
      " 8   max       1825 non-null   object        \n",
      " 9   critical  1809 non-null   object        \n",
      " 10  categori  1824 non-null   object        \n",
      "dtypes: datetime64[ns](1), int32(1), object(9)\n",
      "memory usage: 149.8+ KB\n"
     ]
    }
   ],
   "source": [
    "# cek tipe data\n",
    "dataset.info()"
   ]
  },
  {
   "cell_type": "code",
   "execution_count": 31,
   "id": "4d763cdf",
   "metadata": {},
   "outputs": [
    {
     "data": {
      "text/plain": [
       "62"
      ]
     },
     "execution_count": 31,
     "metadata": {},
     "output_type": "execute_result"
    }
   ],
   "source": [
    "dataset.pm25.isna().sum()"
   ]
  },
  {
   "cell_type": "code",
   "execution_count": 32,
   "id": "aff59868",
   "metadata": {},
   "outputs": [],
   "source": [
    "# replacing NaN dengan -1\n",
    "dataset.pm25.fillna(-1, inplace = True)"
   ]
  },
  {
   "cell_type": "code",
   "execution_count": 33,
   "id": "8eda1317",
   "metadata": {},
   "outputs": [],
   "source": [
    "dataset.pm25 = dataset.pm25.replace(\"---\", -1).astype(int)"
   ]
  },
  {
   "cell_type": "code",
   "execution_count": 34,
   "id": "b521ac66",
   "metadata": {},
   "outputs": [
    {
     "name": "stdout",
     "output_type": "stream",
     "text": [
      "<class 'pandas.core.frame.DataFrame'>\n",
      "RangeIndex: 1825 entries, 0 to 1824\n",
      "Data columns (total 11 columns):\n",
      " #   Column    Non-Null Count  Dtype         \n",
      "---  ------    --------------  -----         \n",
      " 0   tanggal   1825 non-null   datetime64[ns]\n",
      " 1   stasiun   1825 non-null   object        \n",
      " 2   pm10      1825 non-null   int32         \n",
      " 3   pm25      1825 non-null   int32         \n",
      " 4   so2       1825 non-null   object        \n",
      " 5   co        1825 non-null   object        \n",
      " 6   o3        1825 non-null   object        \n",
      " 7   no2       1825 non-null   object        \n",
      " 8   max       1825 non-null   object        \n",
      " 9   critical  1809 non-null   object        \n",
      " 10  categori  1824 non-null   object        \n",
      "dtypes: datetime64[ns](1), int32(2), object(8)\n",
      "memory usage: 142.7+ KB\n"
     ]
    }
   ],
   "source": [
    "# cek tipe data\n",
    "dataset.info()"
   ]
  },
  {
   "cell_type": "markdown",
   "id": "75cc85ba",
   "metadata": {},
   "source": [
    "### 3.8. Handling Column \"SO2\""
   ]
  },
  {
   "cell_type": "code",
   "execution_count": 36,
   "id": "014c4d45",
   "metadata": {},
   "outputs": [],
   "source": [
    "dataset.so2 = dataset.so2.replace(\"---\", -1).astype(int)"
   ]
  },
  {
   "cell_type": "markdown",
   "id": "661dbdb7",
   "metadata": {},
   "source": [
    "### 3.9. Handling Column \"CO\""
   ]
  },
  {
   "cell_type": "code",
   "execution_count": 38,
   "id": "10fbf22b",
   "metadata": {},
   "outputs": [],
   "source": [
    "dataset.co = dataset.co.replace(\"---\", -1).astype(int)"
   ]
  },
  {
   "cell_type": "markdown",
   "id": "67626126",
   "metadata": {},
   "source": [
    "### 3.10. Handling Column \"O3\""
   ]
  },
  {
   "cell_type": "code",
   "execution_count": 40,
   "id": "2339b2ce",
   "metadata": {},
   "outputs": [],
   "source": [
    "dataset.o3 = dataset.o3.replace(\"---\", -1).astype(int)"
   ]
  },
  {
   "cell_type": "markdown",
   "id": "7c14184b",
   "metadata": {},
   "source": [
    "### 3.11. Handling Column \"NO2\""
   ]
  },
  {
   "cell_type": "code",
   "execution_count": 42,
   "id": "ea8d4943",
   "metadata": {},
   "outputs": [],
   "source": [
    "dataset.no2 = dataset.no2.replace(\"---\", -1).astype(int)"
   ]
  },
  {
   "cell_type": "markdown",
   "id": "9a0dda1f",
   "metadata": {},
   "source": [
    "### 3.12. Handling Column \"Max\""
   ]
  },
  {
   "cell_type": "code",
   "execution_count": 43,
   "id": "4f7d2277",
   "metadata": {},
   "outputs": [
    {
     "ename": "ValueError",
     "evalue": "invalid literal for int() with base 10: 'PM25'",
     "output_type": "error",
     "traceback": [
      "\u001b[1;31m---------------------------------------------------------------------------\u001b[0m",
      "\u001b[1;31mValueError\u001b[0m                                Traceback (most recent call last)",
      "Input \u001b[1;32mIn [43]\u001b[0m, in \u001b[0;36m<cell line: 1>\u001b[1;34m()\u001b[0m\n\u001b[1;32m----> 1\u001b[0m dataset[\u001b[38;5;124m\"\u001b[39m\u001b[38;5;124mmax\u001b[39m\u001b[38;5;124m\"\u001b[39m] \u001b[38;5;241m=\u001b[39m \u001b[43mdataset\u001b[49m\u001b[43m[\u001b[49m\u001b[38;5;124;43m\"\u001b[39;49m\u001b[38;5;124;43mmax\u001b[39;49m\u001b[38;5;124;43m\"\u001b[39;49m\u001b[43m]\u001b[49m\u001b[38;5;241;43m.\u001b[39;49m\u001b[43mastype\u001b[49m\u001b[43m(\u001b[49m\u001b[38;5;28;43mint\u001b[39;49m\u001b[43m)\u001b[49m\n",
      "File \u001b[1;32m~\\anaconda3\\lib\\site-packages\\pandas\\core\\generic.py:5912\u001b[0m, in \u001b[0;36mNDFrame.astype\u001b[1;34m(self, dtype, copy, errors)\u001b[0m\n\u001b[0;32m   5905\u001b[0m     results \u001b[38;5;241m=\u001b[39m [\n\u001b[0;32m   5906\u001b[0m         \u001b[38;5;28mself\u001b[39m\u001b[38;5;241m.\u001b[39miloc[:, i]\u001b[38;5;241m.\u001b[39mastype(dtype, copy\u001b[38;5;241m=\u001b[39mcopy)\n\u001b[0;32m   5907\u001b[0m         \u001b[38;5;28;01mfor\u001b[39;00m i \u001b[38;5;129;01min\u001b[39;00m \u001b[38;5;28mrange\u001b[39m(\u001b[38;5;28mlen\u001b[39m(\u001b[38;5;28mself\u001b[39m\u001b[38;5;241m.\u001b[39mcolumns))\n\u001b[0;32m   5908\u001b[0m     ]\n\u001b[0;32m   5910\u001b[0m \u001b[38;5;28;01melse\u001b[39;00m:\n\u001b[0;32m   5911\u001b[0m     \u001b[38;5;66;03m# else, only a single dtype is given\u001b[39;00m\n\u001b[1;32m-> 5912\u001b[0m     new_data \u001b[38;5;241m=\u001b[39m \u001b[38;5;28;43mself\u001b[39;49m\u001b[38;5;241;43m.\u001b[39;49m\u001b[43m_mgr\u001b[49m\u001b[38;5;241;43m.\u001b[39;49m\u001b[43mastype\u001b[49m\u001b[43m(\u001b[49m\u001b[43mdtype\u001b[49m\u001b[38;5;241;43m=\u001b[39;49m\u001b[43mdtype\u001b[49m\u001b[43m,\u001b[49m\u001b[43m \u001b[49m\u001b[43mcopy\u001b[49m\u001b[38;5;241;43m=\u001b[39;49m\u001b[43mcopy\u001b[49m\u001b[43m,\u001b[49m\u001b[43m \u001b[49m\u001b[43merrors\u001b[49m\u001b[38;5;241;43m=\u001b[39;49m\u001b[43merrors\u001b[49m\u001b[43m)\u001b[49m\n\u001b[0;32m   5913\u001b[0m     \u001b[38;5;28;01mreturn\u001b[39;00m \u001b[38;5;28mself\u001b[39m\u001b[38;5;241m.\u001b[39m_constructor(new_data)\u001b[38;5;241m.\u001b[39m__finalize__(\u001b[38;5;28mself\u001b[39m, method\u001b[38;5;241m=\u001b[39m\u001b[38;5;124m\"\u001b[39m\u001b[38;5;124mastype\u001b[39m\u001b[38;5;124m\"\u001b[39m)\n\u001b[0;32m   5915\u001b[0m \u001b[38;5;66;03m# GH 33113: handle empty frame or series\u001b[39;00m\n",
      "File \u001b[1;32m~\\anaconda3\\lib\\site-packages\\pandas\\core\\internals\\managers.py:419\u001b[0m, in \u001b[0;36mBaseBlockManager.astype\u001b[1;34m(self, dtype, copy, errors)\u001b[0m\n\u001b[0;32m    418\u001b[0m \u001b[38;5;28;01mdef\u001b[39;00m \u001b[38;5;21mastype\u001b[39m(\u001b[38;5;28mself\u001b[39m: T, dtype, copy: \u001b[38;5;28mbool\u001b[39m \u001b[38;5;241m=\u001b[39m \u001b[38;5;28;01mFalse\u001b[39;00m, errors: \u001b[38;5;28mstr\u001b[39m \u001b[38;5;241m=\u001b[39m \u001b[38;5;124m\"\u001b[39m\u001b[38;5;124mraise\u001b[39m\u001b[38;5;124m\"\u001b[39m) \u001b[38;5;241m-\u001b[39m\u001b[38;5;241m>\u001b[39m T:\n\u001b[1;32m--> 419\u001b[0m     \u001b[38;5;28;01mreturn\u001b[39;00m \u001b[38;5;28;43mself\u001b[39;49m\u001b[38;5;241;43m.\u001b[39;49m\u001b[43mapply\u001b[49m\u001b[43m(\u001b[49m\u001b[38;5;124;43m\"\u001b[39;49m\u001b[38;5;124;43mastype\u001b[39;49m\u001b[38;5;124;43m\"\u001b[39;49m\u001b[43m,\u001b[49m\u001b[43m \u001b[49m\u001b[43mdtype\u001b[49m\u001b[38;5;241;43m=\u001b[39;49m\u001b[43mdtype\u001b[49m\u001b[43m,\u001b[49m\u001b[43m \u001b[49m\u001b[43mcopy\u001b[49m\u001b[38;5;241;43m=\u001b[39;49m\u001b[43mcopy\u001b[49m\u001b[43m,\u001b[49m\u001b[43m \u001b[49m\u001b[43merrors\u001b[49m\u001b[38;5;241;43m=\u001b[39;49m\u001b[43merrors\u001b[49m\u001b[43m)\u001b[49m\n",
      "File \u001b[1;32m~\\anaconda3\\lib\\site-packages\\pandas\\core\\internals\\managers.py:304\u001b[0m, in \u001b[0;36mBaseBlockManager.apply\u001b[1;34m(self, f, align_keys, ignore_failures, **kwargs)\u001b[0m\n\u001b[0;32m    302\u001b[0m         applied \u001b[38;5;241m=\u001b[39m b\u001b[38;5;241m.\u001b[39mapply(f, \u001b[38;5;241m*\u001b[39m\u001b[38;5;241m*\u001b[39mkwargs)\n\u001b[0;32m    303\u001b[0m     \u001b[38;5;28;01melse\u001b[39;00m:\n\u001b[1;32m--> 304\u001b[0m         applied \u001b[38;5;241m=\u001b[39m \u001b[38;5;28mgetattr\u001b[39m(b, f)(\u001b[38;5;241m*\u001b[39m\u001b[38;5;241m*\u001b[39mkwargs)\n\u001b[0;32m    305\u001b[0m \u001b[38;5;28;01mexcept\u001b[39;00m (\u001b[38;5;167;01mTypeError\u001b[39;00m, \u001b[38;5;167;01mNotImplementedError\u001b[39;00m):\n\u001b[0;32m    306\u001b[0m     \u001b[38;5;28;01mif\u001b[39;00m \u001b[38;5;129;01mnot\u001b[39;00m ignore_failures:\n",
      "File \u001b[1;32m~\\anaconda3\\lib\\site-packages\\pandas\\core\\internals\\blocks.py:580\u001b[0m, in \u001b[0;36mBlock.astype\u001b[1;34m(self, dtype, copy, errors)\u001b[0m\n\u001b[0;32m    562\u001b[0m \u001b[38;5;124;03m\"\"\"\u001b[39;00m\n\u001b[0;32m    563\u001b[0m \u001b[38;5;124;03mCoerce to the new dtype.\u001b[39;00m\n\u001b[0;32m    564\u001b[0m \n\u001b[1;32m   (...)\u001b[0m\n\u001b[0;32m    576\u001b[0m \u001b[38;5;124;03mBlock\u001b[39;00m\n\u001b[0;32m    577\u001b[0m \u001b[38;5;124;03m\"\"\"\u001b[39;00m\n\u001b[0;32m    578\u001b[0m values \u001b[38;5;241m=\u001b[39m \u001b[38;5;28mself\u001b[39m\u001b[38;5;241m.\u001b[39mvalues\n\u001b[1;32m--> 580\u001b[0m new_values \u001b[38;5;241m=\u001b[39m \u001b[43mastype_array_safe\u001b[49m\u001b[43m(\u001b[49m\u001b[43mvalues\u001b[49m\u001b[43m,\u001b[49m\u001b[43m \u001b[49m\u001b[43mdtype\u001b[49m\u001b[43m,\u001b[49m\u001b[43m \u001b[49m\u001b[43mcopy\u001b[49m\u001b[38;5;241;43m=\u001b[39;49m\u001b[43mcopy\u001b[49m\u001b[43m,\u001b[49m\u001b[43m \u001b[49m\u001b[43merrors\u001b[49m\u001b[38;5;241;43m=\u001b[39;49m\u001b[43merrors\u001b[49m\u001b[43m)\u001b[49m\n\u001b[0;32m    582\u001b[0m new_values \u001b[38;5;241m=\u001b[39m maybe_coerce_values(new_values)\n\u001b[0;32m    583\u001b[0m newb \u001b[38;5;241m=\u001b[39m \u001b[38;5;28mself\u001b[39m\u001b[38;5;241m.\u001b[39mmake_block(new_values)\n",
      "File \u001b[1;32m~\\anaconda3\\lib\\site-packages\\pandas\\core\\dtypes\\cast.py:1292\u001b[0m, in \u001b[0;36mastype_array_safe\u001b[1;34m(values, dtype, copy, errors)\u001b[0m\n\u001b[0;32m   1289\u001b[0m     dtype \u001b[38;5;241m=\u001b[39m dtype\u001b[38;5;241m.\u001b[39mnumpy_dtype\n\u001b[0;32m   1291\u001b[0m \u001b[38;5;28;01mtry\u001b[39;00m:\n\u001b[1;32m-> 1292\u001b[0m     new_values \u001b[38;5;241m=\u001b[39m \u001b[43mastype_array\u001b[49m\u001b[43m(\u001b[49m\u001b[43mvalues\u001b[49m\u001b[43m,\u001b[49m\u001b[43m \u001b[49m\u001b[43mdtype\u001b[49m\u001b[43m,\u001b[49m\u001b[43m \u001b[49m\u001b[43mcopy\u001b[49m\u001b[38;5;241;43m=\u001b[39;49m\u001b[43mcopy\u001b[49m\u001b[43m)\u001b[49m\n\u001b[0;32m   1293\u001b[0m \u001b[38;5;28;01mexcept\u001b[39;00m (\u001b[38;5;167;01mValueError\u001b[39;00m, \u001b[38;5;167;01mTypeError\u001b[39;00m):\n\u001b[0;32m   1294\u001b[0m     \u001b[38;5;66;03m# e.g. astype_nansafe can fail on object-dtype of strings\u001b[39;00m\n\u001b[0;32m   1295\u001b[0m     \u001b[38;5;66;03m#  trying to convert to float\u001b[39;00m\n\u001b[0;32m   1296\u001b[0m     \u001b[38;5;28;01mif\u001b[39;00m errors \u001b[38;5;241m==\u001b[39m \u001b[38;5;124m\"\u001b[39m\u001b[38;5;124mignore\u001b[39m\u001b[38;5;124m\"\u001b[39m:\n",
      "File \u001b[1;32m~\\anaconda3\\lib\\site-packages\\pandas\\core\\dtypes\\cast.py:1237\u001b[0m, in \u001b[0;36mastype_array\u001b[1;34m(values, dtype, copy)\u001b[0m\n\u001b[0;32m   1234\u001b[0m     values \u001b[38;5;241m=\u001b[39m values\u001b[38;5;241m.\u001b[39mastype(dtype, copy\u001b[38;5;241m=\u001b[39mcopy)\n\u001b[0;32m   1236\u001b[0m \u001b[38;5;28;01melse\u001b[39;00m:\n\u001b[1;32m-> 1237\u001b[0m     values \u001b[38;5;241m=\u001b[39m \u001b[43mastype_nansafe\u001b[49m\u001b[43m(\u001b[49m\u001b[43mvalues\u001b[49m\u001b[43m,\u001b[49m\u001b[43m \u001b[49m\u001b[43mdtype\u001b[49m\u001b[43m,\u001b[49m\u001b[43m \u001b[49m\u001b[43mcopy\u001b[49m\u001b[38;5;241;43m=\u001b[39;49m\u001b[43mcopy\u001b[49m\u001b[43m)\u001b[49m\n\u001b[0;32m   1239\u001b[0m \u001b[38;5;66;03m# in pandas we don't store numpy str dtypes, so convert to object\u001b[39;00m\n\u001b[0;32m   1240\u001b[0m \u001b[38;5;28;01mif\u001b[39;00m \u001b[38;5;28misinstance\u001b[39m(dtype, np\u001b[38;5;241m.\u001b[39mdtype) \u001b[38;5;129;01mand\u001b[39;00m \u001b[38;5;28missubclass\u001b[39m(values\u001b[38;5;241m.\u001b[39mdtype\u001b[38;5;241m.\u001b[39mtype, \u001b[38;5;28mstr\u001b[39m):\n",
      "File \u001b[1;32m~\\anaconda3\\lib\\site-packages\\pandas\\core\\dtypes\\cast.py:1154\u001b[0m, in \u001b[0;36mastype_nansafe\u001b[1;34m(arr, dtype, copy, skipna)\u001b[0m\n\u001b[0;32m   1150\u001b[0m \u001b[38;5;28;01melif\u001b[39;00m is_object_dtype(arr\u001b[38;5;241m.\u001b[39mdtype):\n\u001b[0;32m   1151\u001b[0m \n\u001b[0;32m   1152\u001b[0m     \u001b[38;5;66;03m# work around NumPy brokenness, #1987\u001b[39;00m\n\u001b[0;32m   1153\u001b[0m     \u001b[38;5;28;01mif\u001b[39;00m np\u001b[38;5;241m.\u001b[39missubdtype(dtype\u001b[38;5;241m.\u001b[39mtype, np\u001b[38;5;241m.\u001b[39minteger):\n\u001b[1;32m-> 1154\u001b[0m         \u001b[38;5;28;01mreturn\u001b[39;00m \u001b[43mlib\u001b[49m\u001b[38;5;241;43m.\u001b[39;49m\u001b[43mastype_intsafe\u001b[49m\u001b[43m(\u001b[49m\u001b[43marr\u001b[49m\u001b[43m,\u001b[49m\u001b[43m \u001b[49m\u001b[43mdtype\u001b[49m\u001b[43m)\u001b[49m\n\u001b[0;32m   1156\u001b[0m     \u001b[38;5;66;03m# if we have a datetime/timedelta array of objects\u001b[39;00m\n\u001b[0;32m   1157\u001b[0m     \u001b[38;5;66;03m# then coerce to a proper dtype and recall astype_nansafe\u001b[39;00m\n\u001b[0;32m   1159\u001b[0m     \u001b[38;5;28;01melif\u001b[39;00m is_datetime64_dtype(dtype):\n",
      "File \u001b[1;32m~\\anaconda3\\lib\\site-packages\\pandas\\_libs\\lib.pyx:668\u001b[0m, in \u001b[0;36mpandas._libs.lib.astype_intsafe\u001b[1;34m()\u001b[0m\n",
      "\u001b[1;31mValueError\u001b[0m: invalid literal for int() with base 10: 'PM25'"
     ]
    }
   ],
   "source": [
    "dataset[\"max\"] = dataset[\"max\"].astype(int)"
   ]
  },
  {
   "cell_type": "code",
   "execution_count": 44,
   "id": "03f3b59c",
   "metadata": {},
   "outputs": [
    {
     "data": {
      "text/html": [
       "<div>\n",
       "<style scoped>\n",
       "    .dataframe tbody tr th:only-of-type {\n",
       "        vertical-align: middle;\n",
       "    }\n",
       "\n",
       "    .dataframe tbody tr th {\n",
       "        vertical-align: top;\n",
       "    }\n",
       "\n",
       "    .dataframe thead th {\n",
       "        text-align: right;\n",
       "    }\n",
       "</style>\n",
       "<table border=\"1\" class=\"dataframe\">\n",
       "  <thead>\n",
       "    <tr style=\"text-align: right;\">\n",
       "      <th></th>\n",
       "      <th>tanggal</th>\n",
       "      <th>stasiun</th>\n",
       "      <th>pm10</th>\n",
       "      <th>pm25</th>\n",
       "      <th>so2</th>\n",
       "      <th>co</th>\n",
       "      <th>o3</th>\n",
       "      <th>no2</th>\n",
       "      <th>max</th>\n",
       "      <th>critical</th>\n",
       "      <th>categori</th>\n",
       "    </tr>\n",
       "  </thead>\n",
       "  <tbody>\n",
       "    <tr>\n",
       "      <th>1367</th>\n",
       "      <td>2021-12-03</td>\n",
       "      <td>DKI1 (Bunderan HI)</td>\n",
       "      <td>49</td>\n",
       "      <td>31</td>\n",
       "      <td>9</td>\n",
       "      <td>19</td>\n",
       "      <td>7</td>\n",
       "      <td>49</td>\n",
       "      <td>PM25</td>\n",
       "      <td>BAIK</td>\n",
       "      <td>NaN</td>\n",
       "    </tr>\n",
       "  </tbody>\n",
       "</table>\n",
       "</div>"
      ],
      "text/plain": [
       "        tanggal             stasiun  pm10  pm25  so2  co  o3  no2   max  \\\n",
       "1367 2021-12-03  DKI1 (Bunderan HI)    49    31    9  19   7   49  PM25   \n",
       "\n",
       "     critical categori  \n",
       "1367     BAIK      NaN  "
      ]
     },
     "execution_count": 44,
     "metadata": {},
     "output_type": "execute_result"
    }
   ],
   "source": [
    "# perlu kita perhatikan lebih detail\n",
    "dataset[dataset[\"max\"] == \"PM25\"]"
   ]
  },
  {
   "cell_type": "raw",
   "id": "9ff60883",
   "metadata": {},
   "source": [
    "# dari row 1367, dapat kita simpulkan bahwa data kolom max bisa dari pm10 atau no2\n",
    "# data pada kolom critical adalah PM25, namun itu tidak sesuai dengan definisinya\n",
    "# maka dari itu kita akan memilih antara PM10 atau NO2\n",
    "# dan kolom categori, kita dapat berasumsi bahwa nilainya adalah BAIK\n",
    "# namun dengan salahnya data pada kolom critical (data PM25 namun bukan PM25 yang kritikal, melaikan PM10 dan NO2) maka asumsi kitapun bisa salah\n",
    "# untuk saat ini kita set dulu ke BAIK untuk nilai di kolom categori, nanti kita liat polanya di EDA untuk categori BAIK\n",
    "# ingat-ingat saja indexnya adalah 1367"
   ]
  },
  {
   "cell_type": "code",
   "execution_count": 45,
   "id": "8e8d9131",
   "metadata": {},
   "outputs": [],
   "source": [
    "# fix the problem\n",
    "dataset.loc[1367, \"max\"] = 49\n",
    "dataset.loc[1367, \"critical\"] = \"PM10\"\n",
    "dataset.loc[1367, \"categori\"] = \"BAIK\""
   ]
  },
  {
   "cell_type": "code",
   "execution_count": 46,
   "id": "5a06d1b9",
   "metadata": {},
   "outputs": [
    {
     "data": {
      "text/html": [
       "<div>\n",
       "<style scoped>\n",
       "    .dataframe tbody tr th:only-of-type {\n",
       "        vertical-align: middle;\n",
       "    }\n",
       "\n",
       "    .dataframe tbody tr th {\n",
       "        vertical-align: top;\n",
       "    }\n",
       "\n",
       "    .dataframe thead th {\n",
       "        text-align: right;\n",
       "    }\n",
       "</style>\n",
       "<table border=\"1\" class=\"dataframe\">\n",
       "  <thead>\n",
       "    <tr style=\"text-align: right;\">\n",
       "      <th></th>\n",
       "      <th>tanggal</th>\n",
       "      <th>stasiun</th>\n",
       "      <th>pm10</th>\n",
       "      <th>pm25</th>\n",
       "      <th>so2</th>\n",
       "      <th>co</th>\n",
       "      <th>o3</th>\n",
       "      <th>no2</th>\n",
       "      <th>max</th>\n",
       "      <th>critical</th>\n",
       "      <th>categori</th>\n",
       "    </tr>\n",
       "  </thead>\n",
       "  <tbody>\n",
       "  </tbody>\n",
       "</table>\n",
       "</div>"
      ],
      "text/plain": [
       "Empty DataFrame\n",
       "Columns: [tanggal, stasiun, pm10, pm25, so2, co, o3, no2, max, critical, categori]\n",
       "Index: []"
      ]
     },
     "execution_count": 46,
     "metadata": {},
     "output_type": "execute_result"
    }
   ],
   "source": [
    "# cek ulang hasilnya\n",
    "dataset[dataset[\"max\"] == \"PM25\"]"
   ]
  },
  {
   "cell_type": "code",
   "execution_count": 47,
   "id": "3acd01a4",
   "metadata": {},
   "outputs": [
    {
     "data": {
      "text/plain": [
       "tanggal     2021-12-03 00:00:00\n",
       "stasiun      DKI1 (Bunderan HI)\n",
       "pm10                         49\n",
       "pm25                         31\n",
       "so2                           9\n",
       "co                           19\n",
       "o3                            7\n",
       "no2                          49\n",
       "max                          49\n",
       "critical                   PM10\n",
       "categori                   BAIK\n",
       "Name: 1367, dtype: object"
      ]
     },
     "execution_count": 47,
     "metadata": {},
     "output_type": "execute_result"
    }
   ],
   "source": [
    "dataset.loc[1367]"
   ]
  },
  {
   "cell_type": "code",
   "execution_count": 48,
   "id": "75e8bf70",
   "metadata": {},
   "outputs": [],
   "source": [
    "dataset[\"max\"] = dataset[\"max\"].astype(int)"
   ]
  },
  {
   "cell_type": "code",
   "execution_count": 49,
   "id": "d0a127fe",
   "metadata": {},
   "outputs": [
    {
     "name": "stdout",
     "output_type": "stream",
     "text": [
      "<class 'pandas.core.frame.DataFrame'>\n",
      "RangeIndex: 1825 entries, 0 to 1824\n",
      "Data columns (total 11 columns):\n",
      " #   Column    Non-Null Count  Dtype         \n",
      "---  ------    --------------  -----         \n",
      " 0   tanggal   1825 non-null   datetime64[ns]\n",
      " 1   stasiun   1825 non-null   object        \n",
      " 2   pm10      1825 non-null   int32         \n",
      " 3   pm25      1825 non-null   int32         \n",
      " 4   so2       1825 non-null   int32         \n",
      " 5   co        1825 non-null   int32         \n",
      " 6   o3        1825 non-null   int32         \n",
      " 7   no2       1825 non-null   int32         \n",
      " 8   max       1825 non-null   int32         \n",
      " 9   critical  1809 non-null   object        \n",
      " 10  categori  1825 non-null   object        \n",
      "dtypes: datetime64[ns](1), int32(7), object(3)\n",
      "memory usage: 107.1+ KB\n"
     ]
    }
   ],
   "source": [
    "dataset.info()"
   ]
  },
  {
   "cell_type": "markdown",
   "id": "02eedacd",
   "metadata": {},
   "source": [
    "### 3.13. Handling Column \"Critical\""
   ]
  },
  {
   "cell_type": "code",
   "execution_count": 50,
   "id": "95c3ef48",
   "metadata": {},
   "outputs": [
    {
     "data": {
      "text/plain": [
       "PM25    1630\n",
       "PM10      64\n",
       "O3        56\n",
       "CO        34\n",
       "SO2       25\n",
       "Name: critical, dtype: int64"
      ]
     },
     "execution_count": 50,
     "metadata": {},
     "output_type": "execute_result"
    }
   ],
   "source": [
    "# cek data unik pada kolom kategorik \"critical\"\n",
    "dataset.critical.value_counts()"
   ]
  },
  {
   "cell_type": "raw",
   "id": "8c627211",
   "metadata": {},
   "source": [
    "# semuanya terlihat normal, tidak diperlukan perlakuan khusus"
   ]
  },
  {
   "cell_type": "markdown",
   "id": "a365cd7c",
   "metadata": {},
   "source": [
    "### 3.14. Handling Column \"Categori\""
   ]
  },
  {
   "cell_type": "code",
   "execution_count": 52,
   "id": "3473fefa",
   "metadata": {},
   "outputs": [
    {
     "data": {
      "text/plain": [
       "SEDANG            1349\n",
       "TIDAK SEHAT        272\n",
       "BAIK               188\n",
       "TIDAK ADA DATA      16\n",
       "Name: categori, dtype: int64"
      ]
     },
     "execution_count": 52,
     "metadata": {},
     "output_type": "execute_result"
    }
   ],
   "source": [
    "# cek data unik untuk kolom kategorik \"categori\" yang merupakan data label atau dependen variabel\n",
    "dataset.categori.value_counts()"
   ]
  },
  {
   "cell_type": "code",
   "execution_count": 53,
   "id": "87bd959c",
   "metadata": {},
   "outputs": [],
   "source": [
    "# terdapat data \"TIDAK ADA DATA\" yang mengindikasikan null value\n",
    "# bisa langsung hapus (drop)"
   ]
  },
  {
   "cell_type": "code",
   "execution_count": 54,
   "id": "ef75eaed",
   "metadata": {},
   "outputs": [],
   "source": [
    "dataset.drop(index = dataset[dataset.categori == \"TIDAK ADA DATA\"].index, inplace = True)"
   ]
  },
  {
   "cell_type": "code",
   "execution_count": 55,
   "id": "56363e16",
   "metadata": {},
   "outputs": [
    {
     "data": {
      "text/plain": [
       "SEDANG         1349\n",
       "TIDAK SEHAT     272\n",
       "BAIK            188\n",
       "Name: categori, dtype: int64"
      ]
     },
     "execution_count": 55,
     "metadata": {},
     "output_type": "execute_result"
    }
   ],
   "source": [
    "dataset.categori.value_counts()"
   ]
  },
  {
   "cell_type": "code",
   "execution_count": 56,
   "id": "71521b31",
   "metadata": {},
   "outputs": [],
   "source": [
    "# semua tipe data sudah sesuai, bisa disimpan agar nanti dapat digunakan kembali"
   ]
  },
  {
   "cell_type": "code",
   "execution_count": 57,
   "id": "97b05fa2",
   "metadata": {},
   "outputs": [
    {
     "data": {
      "text/plain": [
       "['data/processed/dataset_clean.pkl']"
      ]
     },
     "execution_count": 57,
     "metadata": {},
     "output_type": "execute_result"
    }
   ],
   "source": [
    "joblib.dump(dataset, \"data/processed/dataset_clean.pkl\")"
   ]
  },
  {
   "cell_type": "markdown",
   "id": "11228c3a",
   "metadata": {},
   "source": [
    "## 4. Data Defense"
   ]
  },
  {
   "cell_type": "code",
   "execution_count": 59,
   "id": "ddc79914",
   "metadata": {},
   "outputs": [],
   "source": [
    "def check_data(input_data, params):\n",
    "    # check data types\n",
    "    assert input_data.select_dtypes(\"datetime\").columns.to_list() == params[\"datetime_columns\"], \"an error occurs in datetime column(s).\"\n",
    "    assert input_data.select_dtypes(\"object\").columns.to_list() == params[\"object_columns\"], \"an error occurs in object column(s).\"\n",
    "    assert input_data.select_dtypes(\"int\").columns.to_list() == params[\"int32_columns\"], \"an error occurs in int32 column(s).\"\n",
    "\n",
    "    # check range of data\n",
    "    assert set(input_data.stasiun).issubset(set(params[\"range_stasiun\"])), \"an error occurs in stasiun range.\"\n",
    "    assert input_data.pm10.between(params[\"range_pm10\"][0], params[\"range_pm10\"][1]).sum() == len(input_data), \"an error occurs in pm10 range.\"\n",
    "    assert input_data.pm25.between(params[\"range_pm25\"][0], params[\"range_pm25\"][1]).sum() == len(input_data), \"an error occurs in pm25 range.\"\n",
    "    assert input_data.so2.between(params[\"range_so2\"][0], params[\"range_so2\"][1]).sum() == len(input_data), \"an error occurs in so2 range.\"\n",
    "    assert input_data.co.between(params[\"range_co\"][0], params[\"range_co\"][1]).sum() == len(input_data), \"an error occurs in co range.\"\n",
    "    assert input_data.o3.between(params[\"range_o3\"][0], params[\"range_o3\"][1]).sum() == len(input_data), \"an error occurs in o3 range.\"\n",
    "    assert input_data.no2.between(params[\"range_no2\"][0], params[\"range_no2\"][1]).sum() == len(input_data), \"an error occurs in no2 range.\""
   ]
  },
  {
   "cell_type": "code",
   "execution_count": 60,
   "id": "00eaf1fc",
   "metadata": {},
   "outputs": [],
   "source": [
    "# jika tidak ada error berarti data sudah sesuai dengan desain\n",
    "check_data(dataset, params)"
   ]
  },
  {
   "cell_type": "markdown",
   "id": "d318bed4",
   "metadata": {},
   "source": [
    "## 5. Data Splitting"
   ]
  },
  {
   "cell_type": "code",
   "execution_count": 61,
   "id": "19cbfe29",
   "metadata": {},
   "outputs": [
    {
     "data": {
      "text/plain": [
       "'categori'"
      ]
     },
     "execution_count": 61,
     "metadata": {},
     "output_type": "execute_result"
    }
   ],
   "source": [
    "params['label']"
   ]
  },
  {
   "cell_type": "code",
   "execution_count": 69,
   "id": "2a7198ee",
   "metadata": {},
   "outputs": [
    {
     "data": {
      "text/plain": [
       "['stasiun', 'pm10', 'pm25', 'so2', 'co', 'o3', 'no2']"
      ]
     },
     "execution_count": 69,
     "metadata": {},
     "output_type": "execute_result"
    }
   ],
   "source": [
    "params[\"predictors\"]"
   ]
  },
  {
   "cell_type": "code",
   "execution_count": 63,
   "id": "809a6429",
   "metadata": {},
   "outputs": [],
   "source": [
    "# pisahkan data x dan y (x adalah fitur, y adalah label)\n",
    "x = dataset[params[\"predictors\"]].copy()\n",
    "y = dataset[params[\"label\"]].copy()"
   ]
  },
  {
   "cell_type": "code",
   "execution_count": 64,
   "id": "c9f438de",
   "metadata": {},
   "outputs": [
    {
     "name": "stdout",
     "output_type": "stream",
     "text": [
      "<class 'pandas.core.frame.DataFrame'>\n",
      "Int64Index: 1809 entries, 0 to 1824\n",
      "Data columns (total 7 columns):\n",
      " #   Column   Non-Null Count  Dtype \n",
      "---  ------   --------------  ----- \n",
      " 0   stasiun  1809 non-null   object\n",
      " 1   pm10     1809 non-null   int32 \n",
      " 2   pm25     1809 non-null   int32 \n",
      " 3   so2      1809 non-null   int32 \n",
      " 4   co       1809 non-null   int32 \n",
      " 5   o3       1809 non-null   int32 \n",
      " 6   no2      1809 non-null   int32 \n",
      "dtypes: int32(6), object(1)\n",
      "memory usage: 70.7+ KB\n"
     ]
    }
   ],
   "source": [
    "x.info()"
   ]
  },
  {
   "cell_type": "code",
   "execution_count": 65,
   "id": "2f18c3b5",
   "metadata": {},
   "outputs": [
    {
     "data": {
      "text/plain": [
       "SEDANG         1349\n",
       "TIDAK SEHAT     272\n",
       "BAIK            188\n",
       "Name: categori, dtype: int64"
      ]
     },
     "execution_count": 65,
     "metadata": {},
     "output_type": "execute_result"
    }
   ],
   "source": [
    "y.value_counts()"
   ]
  },
  {
   "cell_type": "code",
   "execution_count": 66,
   "id": "dc88205e",
   "metadata": {},
   "outputs": [],
   "source": [
    "x_train, x_test, y_train, y_test = train_test_split(x, y, test_size = 0.3, random_state = 42, stratify = y)"
   ]
  },
  {
   "cell_type": "code",
   "execution_count": 67,
   "id": "f3cfb07c",
   "metadata": {},
   "outputs": [],
   "source": [
    "# dari data test displit lagi jd validation dan test\n",
    "x_valid, x_test, y_valid, y_test = train_test_split(x_test, y_test, test_size = 0.5, random_state = 42, stratify = y_test)"
   ]
  },
  {
   "cell_type": "code",
   "execution_count": 68,
   "id": "7b0c7870",
   "metadata": {},
   "outputs": [
    {
     "data": {
      "text/plain": [
       "['data/processed/y_test.pkl']"
      ]
     },
     "execution_count": 68,
     "metadata": {},
     "output_type": "execute_result"
    }
   ],
   "source": [
    "# data yg sdh bersih dan displit td disimpan dlm format pkl\n",
    "joblib.dump(x_train, \"data/processed/x_train.pkl\")\n",
    "joblib.dump(y_train, \"data/processed/y_train.pkl\")\n",
    "joblib.dump(x_valid, \"data/processed/x_valid.pkl\")\n",
    "joblib.dump(y_valid, \"data/processed/y_valid.pkl\")\n",
    "joblib.dump(x_test, \"data/processed/x_test.pkl\")\n",
    "joblib.dump(y_test, \"data/processed/y_test.pkl\")"
   ]
  }
 ],
 "metadata": {
  "kernelspec": {
   "display_name": "Python 3 (ipykernel)",
   "language": "python",
   "name": "python3"
  },
  "language_info": {
   "codemirror_mode": {
    "name": "ipython",
    "version": 3
   },
   "file_extension": ".py",
   "mimetype": "text/x-python",
   "name": "python",
   "nbconvert_exporter": "python",
   "pygments_lexer": "ipython3",
   "version": "3.9.12"
  }
 },
 "nbformat": 4,
 "nbformat_minor": 5
}
